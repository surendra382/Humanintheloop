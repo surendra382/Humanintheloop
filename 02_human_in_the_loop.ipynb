{
  "cells": [
    {
      "cell_type": "code",
      "execution_count": 1,
      "metadata": {
        "colab": {
          "base_uri": "https://localhost:8080/"
        },
        "id": "DeshVQiE_9lH",
        "outputId": "450ab938-9949-416f-9a16-612a29975388"
      },
      "outputs": [
        {
          "name": "stdout",
          "output_type": "stream",
          "text": [
            "^C\n",
            "Note: you may need to restart the kernel to use updated packages.\n"
          ]
        },
        {
          "name": "stderr",
          "output_type": "stream",
          "text": [
            "\n",
            "[notice] A new release of pip is available: 23.2.1 -> 25.2\n",
            "[notice] To update, run: python.exe -m pip install --upgrade pip\n"
          ]
        }
      ],
      "source": [
        "%pip install -Uq langgraph langchain langchain-openai langchain-groq python-dotenv"
      ]
    },
    {
      "cell_type": "code",
      "execution_count": 1,
      "metadata": {
        "colab": {
          "base_uri": "https://localhost:8080/"
        },
        "id": "wrjTgQkY-uH4",
        "outputId": "71dbc3cf-3afb-4dab-cde7-3f4b09ff24bf"
      },
      "outputs": [
        {
          "data": {
            "text/plain": [
              "True"
            ]
          },
          "execution_count": 1,
          "metadata": {},
          "output_type": "execute_result"
        }
      ],
      "source": [
        "from dotenv import load_dotenv\n",
        "load_dotenv()"
      ]
    },
    {
      "cell_type": "code",
      "execution_count": 2,
      "metadata": {
        "id": "FsQ69xJx-uH5"
      },
      "outputs": [],
      "source": [
        "# Set the project name for LangSmith\n",
        "\n",
        "import os\n",
        "\n",
        "PROJECT_NAME = \"LangGraph Course\"\n",
        "\n",
        "os.environ[\"LANGCHAIN_PROJECT\"] = PROJECT_NAME"
      ]
    },
    {
      "cell_type": "markdown",
      "metadata": {
        "id": "FWlTrwVp-uH5"
      },
      "source": [
        "## Validate the state on interruption\n",
        "\n",
        "In this section, we will see how to interrupt the flow of your graph on a given moment. Let's suppose that you want to interrupt the flow before the `Tools` node is executed to so you can validate the tool call before executing it. Or maybe you want to verify that the response that a node has produced is what you expected. In this case, you will want to add a `interrupt_before` or `interrupt_after` parameter to the `compile` method."
      ]
    },
    {
      "cell_type": "code",
      "execution_count": null,
      "metadata": {
        "colab": {
          "base_uri": "https://localhost:8080/",
          "height": 308
        },
        "id": "2_tSSuji-uH6",
        "outputId": "4f1c8630-5b79-492b-91ba-1a1331404562"
      },
      "outputs": [
        {
          "data": {
            "image/png": "[encoded data removed]",
            "text/plain": [
              "<IPython.core.display.Image object>"
            ]
          },
          "metadata": {},
          "output_type": "display_data"
        }
      ],
      "source": [
        "from langgraph.checkpoint.memory import MemorySaver\n",
        "from langchain_openai import ChatOpenAI\n",
        "from langchain_groq import ChatGroq\n",
        "from IPython.display import Image, display\n",
        "from langgraph.graph import StateGraph, START\n",
        "from langgraph.graph import MessagesState\n",
        "from langgraph.prebuilt import ToolNode, tools_condition\n",
        "from langchain_core.messages import SystemMessage\n",
        "\n",
        "# custom state\n",
        "# define our tools\n",
        "def celsius_to_fahrenheit(celsius: float) -> float:\n",
        "    \"\"\"\n",
        "    Convert Celsius to Fahrenheit\n",
        "\n",
        "    Args:\n",
        "    celsius: The temperature in Celsius\n",
        "    \"\"\"\n",
        "    return celsius * 9/5 + 32\n",
        "\n",
        "def get_temperature(city: str) -> float:\n",
        "    \"\"\"\n",
        "    Get the temperature of a city in Celsius\n",
        "\n",
        "    Args:\n",
        "    city: The name of the city\n",
        "    \"\"\"\n",
        "    if city.lower() == \"berlin\":\n",
        "        return 20\n",
        "    if city.lower() == \"paris\":\n",
        "        return 22\n",
        "    if city.lower() == \"san francisco\":\n",
        "        return 25\n",
        "    return 30\n",
        "\n",
        "tools = [celsius_to_fahrenheit, get_temperature]\n",
        "\n",
        "# define our llm and bind the tools\n",
        "llm = ChatOpenAI(model=\"gpt-4o-mini\")\n",
        "#groq_llm = ChatGroq(model=\"llama-3.1-70b-versatile\")\n",
        "llm_with_tools = llm.bind_tools(tools)\n",
        "\n",
        "# node\n",
        "def conversation(state: MessagesState):\n",
        "    messages = state.get(\"messages\", [])\n",
        "\n",
        "    system_prompt = \"\"\"\n",
        "    You are a helpful assistant. You can tell the user the\n",
        "    temperature of a city in Celsius and also convert any\n",
        "    temperature from Celsius to Fahrenheit.\"\"\".strip()\n",
        "\n",
        "    messages = [SystemMessage(content=system_prompt)] + messages\n",
        "\n",
        "    response_message = llm_with_tools.invoke(messages)\n",
        "\n",
        "    return {\"messages\": [response_message]}\n",
        "\n",
        "# Build graph\n",
        "builder = StateGraph(MessagesState)\n",
        "builder.add_node(\"conversation\", conversation)\n",
        "builder.add_node(\"tools\", ToolNode(tools))\n",
        "\n",
        "builder.add_edge(START, \"conversation\")\n",
        "builder.add_conditional_edges(\"conversation\", tools_condition)\n",
        "builder.add_edge(\"tools\", \"conversation\")\n",
        "\n",
        "memory = MemorySaver()\n",
        "graph = builder.compile(checkpointer=memory, interrupt_before=[\"tools\"]) # specify where we want to interrupt the flow\n",
        "\n",
        "# mermaid graph\n",
        "display(Image(graph.get_graph().draw_mermaid_png()))\n"
      ]
    },
    {
      "cell_type": "code",
      "execution_count": 4,
      "metadata": {
        "colab": {
          "base_uri": "https://localhost:8080/"
        },
        "id": "f2yFCqZU-uH6",
        "outputId": "87fe2557-63eb-4cb3-f157-48f60ac919c2"
      },
      "outputs": [
        {
          "name": "stdout",
          "output_type": "stream",
          "text": [
            "{'messages': [HumanMessage(content='What is the temperature in Berlin?', additional_kwargs={}, response_metadata={}, id='35c6364a-857a-434d-8373-0b92094f9b60')]}\n",
            "--------------------------------------------------\n",
            "{'messages': [HumanMessage(content='What is the temperature in Berlin?', additional_kwargs={}, response_metadata={}, id='35c6364a-857a-434d-8373-0b92094f9b60'),\n",
            "              AIMessage(content='', additional_kwargs={'tool_calls': [{'id': 'call_wfHMeN5TL7KB4OFjiCUFWJyf', 'function': {'arguments': '{\"city\":\"Berlin\"}', 'name': 'get_temperature'}, 'type': 'function'}], 'refusal': None}, response_metadata={'token_usage': {'completion_tokens': 14, 'prompt_tokens': 121, 'total_tokens': 135, 'completion_tokens_details': {'accepted_prediction_tokens': 0, 'audio_tokens': 0, 'reasoning_tokens': 0, 'rejected_prediction_tokens': 0}, 'prompt_tokens_details': {'audio_tokens': 0, 'cached_tokens': 0}}, 'model_name': 'gpt-4o-mini-2024-07-18', 'system_fingerprint': 'fp_560af6e559', 'id': 'chatcmpl-CN9UM2B1XKRV4wwKO9RbFswXb9tdz', 'service_tier': 'default', 'finish_reason': 'tool_calls', 'logprobs': None}, id='run--3234eb6b-f9d6-45a5-858e-2fb99af722fb-0', tool_calls=[{'name': 'get_temperature', 'args': {'city': 'Berlin'}, 'id': 'call_wfHMeN5TL7KB4OFjiCUFWJyf', 'type': 'tool_call'}], usage_metadata={'input_tokens': 121, 'output_tokens': 14, 'total_tokens': 135, 'input_token_details': {'audio': 0, 'cache_read': 0}, 'output_token_details': {'audio': 0, 'reasoning': 0}})]}\n",
            "--------------------------------------------------\n"
          ]
        }
      ],
      "source": [
        "# executing the graph will stop right before getting into the `Tools` node\n",
        "\n",
        "from langchain_core.messages import HumanMessage\n",
        "\n",
        "THREAD_ID = \"3\"\n",
        "\n",
        "config = {\"configurable\": {\"thread_id\": THREAD_ID,}}\n",
        "input_messages = [\n",
        "    HumanMessage(content=\"What is the temperature in Berlin?\"),\n",
        "]\n",
        "\n",
        "import pprint\n",
        "for event in graph.stream({\"messages\": input_messages}, config, stream_mode=\"values\"):\n",
        "    pprint.pprint(event)\n",
        "    print(\"-\" * 50)\n"
      ]
    },
    {
      "cell_type": "code",
      "execution_count": 5,
      "metadata": {
        "colab": {
          "base_uri": "https://localhost:8080/"
        },
        "id": "0FScePw9-uH6",
        "outputId": "dd350341-780a-413f-97db-8ed84f61229d"
      },
      "outputs": [
        {
          "data": {
            "text/plain": [
              "('tools',)"
            ]
          },
          "execution_count": 5,
          "metadata": {},
          "output_type": "execute_result"
        }
      ],
      "source": [
        "# let's see what node is next in the state of the graph\n",
        "\n",
        "state = graph.get_state(config)\n",
        "state.next"
      ]
    },
    {
      "cell_type": "code",
      "execution_count": 6,
      "metadata": {
        "colab": {
          "base_uri": "https://localhost:8080/"
        },
        "id": "VDZefvtM-uH6",
        "outputId": "256cded2-f213-4c5a-eb14-a3346b3ab0c7"
      },
      "outputs": [
        {
          "name": "stdout",
          "output_type": "stream",
          "text": [
            "==================================\u001b[1m Ai Message \u001b[0m==================================\n",
            "Tool Calls:\n",
            "  get_temperature (call_wfHMeN5TL7KB4OFjiCUFWJyf)\n",
            " Call ID: call_wfHMeN5TL7KB4OFjiCUFWJyf\n",
            "  Args:\n",
            "    city: Berlin\n",
            "=================================\u001b[1m Tool Message \u001b[0m=================================\n",
            "Name: get_temperature\n",
            "\n",
            "20\n",
            "==================================\u001b[1m Ai Message \u001b[0m==================================\n",
            "\n",
            "The temperature in Berlin is currently 20°C.\n"
          ]
        }
      ],
      "source": [
        "# We have validated that the tool is okay.\n",
        "# Now, let's continue execution by passing None as input to the graph within the same thread:\n",
        "\n",
        "for event in graph.stream(None, config, stream_mode=\"values\"):\n",
        "    event[\"messages\"][-1].pretty_print()"
      ]
    },
    {
      "cell_type": "code",
      "execution_count": 7,
      "metadata": {
        "colab": {
          "base_uri": "https://localhost:8080/"
        },
        "id": "TcDfru6D-uH6",
        "outputId": "95dd7b0c-a6b6-4e35-d4eb-9e2c1562d9ac"
      },
      "outputs": [
        {
          "name": "stdout",
          "output_type": "stream",
          "text": [
            "================================\u001b[1m Human Message \u001b[0m=================================\n",
            "\n",
            "What is the temperature in Berlin?\n",
            "==================================\u001b[1m Ai Message \u001b[0m==================================\n",
            "Tool Calls:\n",
            "  get_temperature (call_wfHMeN5TL7KB4OFjiCUFWJyf)\n",
            " Call ID: call_wfHMeN5TL7KB4OFjiCUFWJyf\n",
            "  Args:\n",
            "    city: Berlin\n",
            "=================================\u001b[1m Tool Message \u001b[0m=================================\n",
            "Name: get_temperature\n",
            "\n",
            "20\n",
            "==================================\u001b[1m Ai Message \u001b[0m==================================\n",
            "\n",
            "The temperature in Berlin is currently 20°C.\n"
          ]
        }
      ],
      "source": [
        "# If you want to check the entire history\n",
        "\n",
        "state = graph.get_state(config)\n",
        "for m in state.values.get(\"messages\"):\n",
        "  m.pretty_print()"
      ]
    },
    {
      "cell_type": "markdown",
      "metadata": {
        "id": "_Ewj7DZl-uH6"
      },
      "source": [
        "## Update the state on interruption\n",
        "\n",
        "Now that we have seen how to interrupt the flow of the graph, we may want to update it. This can be useful if you want to update a given message in the history or add a new message, for example. Or maybe you want to upadte any other part of the state. We do this by running the method `update_state` on the graph and passing in a dictionary with the elements of the state that we want to update. This is akin to updating the state of the graph with a node, which means that any value you pass into the `update_state` method will go through the reducer (or it will replace the value of that state's property if there is no reducer).\n",
        "\n",
        "In this example, we have a graph that will interrupt right before entering the conversation node. This means that we can update the state before it goes to our LLM. Let's add an extra message on interruption."
      ]
    },
    {
      "cell_type": "code",
      "execution_count": 8,
      "metadata": {
        "colab": {
          "base_uri": "https://localhost:8080/",
          "height": 308
        },
        "id": "fustsirj-uH6",
        "outputId": "72bf1edd-7092-484d-c7e7-a02572e74601"
      },
      "outputs": [
        {
          "data": {
            "image/png": "[encoded data removed]",
            "text/plain": [
              "<IPython.core.display.Image object>"
            ]
          },
          "metadata": {},
          "output_type": "display_data"
        }
      ],
      "source": [
        "from langgraph.checkpoint.memory import MemorySaver\n",
        "from langchain_openai import ChatOpenAI\n",
        "from langchain_groq import ChatGroq\n",
        "from IPython.display import Image, display\n",
        "from langgraph.graph import StateGraph, START\n",
        "from langgraph.graph import MessagesState\n",
        "from langgraph.prebuilt import ToolNode, tools_condition\n",
        "from langchain_core.messages import SystemMessage\n",
        "\n",
        "# custom state\n",
        "# define our tools\n",
        "def celsius_to_fahrenheit(celsius: float) -> float:\n",
        "    \"\"\"\n",
        "    Convert Celsius to Fahrenheit\n",
        "\n",
        "    Args:\n",
        "    celsius: The temperature in Celsius\n",
        "    \"\"\"\n",
        "    return celsius * 9/5 + 32\n",
        "\n",
        "def get_temperature(city: str) -> float:\n",
        "    \"\"\"\n",
        "    Get the temperature of a city in Celsius\n",
        "\n",
        "    Args:\n",
        "    city: The name of the city\n",
        "    \"\"\"\n",
        "    if city.lower() == \"berlin\":\n",
        "        return 20\n",
        "    if city.lower() == \"paris\":\n",
        "        return 22\n",
        "    if city.lower() == \"san francisco\":\n",
        "        return 25\n",
        "    return 30\n",
        "\n",
        "tools = [celsius_to_fahrenheit, get_temperature]\n",
        "\n",
        "# define our llm and bind the tools\n",
        "llm = ChatOpenAI(model=\"gpt-4o-mini\")\n",
        "#groq_llm = ChatGroq(model=\"llama-3.1-70b-versatile\")\n",
        "llm_with_tools = llm.bind_tools(tools)\n",
        "\n",
        "# node\n",
        "def conversation(state: MessagesState):\n",
        "    messages = state.get(\"messages\", [])\n",
        "\n",
        "    system_prompt = \"\"\"\n",
        "    You are a helpful assistant. You can tell the user the\n",
        "    temperature of a city in Celsius and also convert any\n",
        "    temperature from Celsius to Fahrenheit.\"\"\".strip()\n",
        "\n",
        "    messages = [SystemMessage(content=system_prompt)] + messages\n",
        "\n",
        "    response_message = llm_with_tools.invoke(messages)\n",
        "\n",
        "    return {\"messages\": [response_message]}\n",
        "\n",
        "# Build graph\n",
        "builder = StateGraph(MessagesState)\n",
        "builder.add_node(\"conversation\", conversation)\n",
        "builder.add_node(\"tools\", ToolNode(tools))\n",
        "\n",
        "builder.add_edge(START, \"conversation\")\n",
        "builder.add_conditional_edges(\"conversation\", tools_condition)\n",
        "builder.add_edge(\"tools\", \"conversation\")\n",
        "\n",
        "memory = MemorySaver()\n",
        "graph = builder.compile(checkpointer=memory, interrupt_before=[\"conversation\"])\n",
        "\n",
        "# mermaid graph\n",
        "display(Image(graph.get_graph().draw_mermaid_png()))\n"
      ]
    },
    {
      "cell_type": "code",
      "execution_count": 13,
      "metadata": {
        "colab": {
          "base_uri": "https://localhost:8080/"
        },
        "id": "TTFGupzW-uH7",
        "outputId": "6849098c-6d58-4ebb-e422-c6618595bcb0"
      },
      "outputs": [
        {
          "name": "stdout",
          "output_type": "stream",
          "text": [
            "================================\u001b[1m Human Message \u001b[0m=================================\n",
            "\n",
            "What is the temperature in berlin?\n"
          ]
        }
      ],
      "source": [
        "# run the regular graph\n",
        "\n",
        "THREAD_ID = \"991\"\n",
        "\n",
        "config = {\"configurable\": {\"thread_id\": THREAD_ID,}}\n",
        "input_messages = [\n",
        "    HumanMessage(content=\"What is the temperature in berlin?\"),\n",
        "]\n",
        "\n",
        "for event in graph.stream({\"messages\": input_messages}, config, stream_mode=\"values\"):\n",
        "    event[\"messages\"][-1].pretty_print()"
      ]
    },
    {
      "cell_type": "code",
      "execution_count": 14,
      "metadata": {
        "colab": {
          "base_uri": "https://localhost:8080/"
        },
        "id": "t9_MhGCG-uH7",
        "outputId": "69db563b-1432-451c-fc47-6675be6ae095"
      },
      "outputs": [
        {
          "data": {
            "text/plain": [
              "{'configurable': {'thread_id': '991',\n",
              "  'checkpoint_ns': '',\n",
              "  'checkpoint_id': '1f0a19b0-8208-632c-8001-541ad46b2691'}}"
            ]
          },
          "execution_count": 14,
          "metadata": {},
          "output_type": "execute_result"
        }
      ],
      "source": [
        "# now let's update the state with an extra message\n",
        "graph.update_state(config, {\"messages\": [\n",
        "  HumanMessage(content=\"Don't forget to convert the temperature to Fahrenheit\")\n",
        "]})"
      ]
    },
    {
      "cell_type": "code",
      "execution_count": 15,
      "metadata": {
        "colab": {
          "base_uri": "https://localhost:8080/"
        },
        "id": "LSHS4joh-uH7",
        "outputId": "2ffda045-2a03-4a2e-c99a-f4204a4647ef"
      },
      "outputs": [
        {
          "name": "stdout",
          "output_type": "stream",
          "text": [
            "================================\u001b[1m Human Message \u001b[0m=================================\n",
            "\n",
            "What is the temperature in berlin?\n",
            "================================\u001b[1m Human Message \u001b[0m=================================\n",
            "\n",
            "Don't forget to convert the temperature to Fahrenheit\n"
          ]
        }
      ],
      "source": [
        "# as you can see, the new message was appended because it went through the `add_messages` reducer\n",
        "\n",
        "updated_state = graph.get_state(config)\n",
        "for m in updated_state.values.get(\"messages\"):\n",
        "  m.pretty_print()"
      ]
    },
    {
      "cell_type": "code",
      "execution_count": 16,
      "metadata": {
        "colab": {
          "base_uri": "https://localhost:8080/"
        },
        "id": "Sa3HZALM-uH7",
        "outputId": "3fb516fa-ff9f-4079-fb93-3fb0668951f8"
      },
      "outputs": [
        {
          "data": {
            "text/plain": [
              "('conversation',)"
            ]
          },
          "execution_count": 16,
          "metadata": {},
          "output_type": "execute_result"
        }
      ],
      "source": [
        "# the next node in the interrupted flow\n",
        "\n",
        "updated_state.next"
      ]
    },
    {
      "cell_type": "code",
      "execution_count": 17,
      "metadata": {
        "colab": {
          "base_uri": "https://localhost:8080/"
        },
        "id": "_bFD3MM8-uH7",
        "outputId": "228b0abc-b14f-4fce-ff78-dddd09083c5d"
      },
      "outputs": [
        {
          "name": "stdout",
          "output_type": "stream",
          "text": [
            "================================\u001b[1m Human Message \u001b[0m=================================\n",
            "\n",
            "Don't forget to convert the temperature to Fahrenheit\n",
            "==================================\u001b[1m Ai Message \u001b[0m==================================\n",
            "Tool Calls:\n",
            "  get_temperature (call_pWEBDlI08yrmp6UCNA9ku4FX)\n",
            " Call ID: call_pWEBDlI08yrmp6UCNA9ku4FX\n",
            "  Args:\n",
            "    city: Berlin\n",
            "=================================\u001b[1m Tool Message \u001b[0m=================================\n",
            "Name: get_temperature\n",
            "\n",
            "20\n"
          ]
        }
      ],
      "source": [
        "# continue the flow by passing `None` to the graph\n",
        "\n",
        "for event in graph.stream(None, config, stream_mode=\"values\"):\n",
        "    event[\"messages\"][-1].pretty_print()"
      ]
    },
    {
      "cell_type": "code",
      "execution_count": 18,
      "metadata": {
        "colab": {
          "base_uri": "https://localhost:8080/"
        },
        "id": "olQ1jV7m-uH7",
        "outputId": "467e954d-0769-4e9d-fbed-1a6c28c7f546"
      },
      "outputs": [
        {
          "name": "stdout",
          "output_type": "stream",
          "text": [
            "=================================\u001b[1m Tool Message \u001b[0m=================================\n",
            "Name: get_temperature\n",
            "\n",
            "20\n",
            "==================================\u001b[1m Ai Message \u001b[0m==================================\n",
            "Tool Calls:\n",
            "  celsius_to_fahrenheit (call_qVDJOds1e9ucl94tepLw9F3D)\n",
            " Call ID: call_qVDJOds1e9ucl94tepLw9F3D\n",
            "  Args:\n",
            "    celsius: 20\n",
            "=================================\u001b[1m Tool Message \u001b[0m=================================\n",
            "Name: celsius_to_fahrenheit\n",
            "\n",
            "68.0\n"
          ]
        }
      ],
      "source": [
        "# continue again (we got interruped again before entering the conversation node)\n",
        "\n",
        "for event in graph.stream(None, config, stream_mode=\"values\"):\n",
        "    event[\"messages\"][-1].pretty_print()"
      ]
    },
    {
      "cell_type": "code",
      "execution_count": 19,
      "metadata": {
        "colab": {
          "base_uri": "https://localhost:8080/"
        },
        "id": "yuXwylfW-uH7",
        "outputId": "b21c1092-667e-4df9-cf1f-4309d440e23d"
      },
      "outputs": [
        {
          "name": "stdout",
          "output_type": "stream",
          "text": [
            "=================================\u001b[1m Tool Message \u001b[0m=================================\n",
            "Name: celsius_to_fahrenheit\n",
            "\n",
            "68.0\n",
            "==================================\u001b[1m Ai Message \u001b[0m==================================\n",
            "\n",
            "The temperature in Berlin is 20°C, which is 68°F.\n"
          ]
        }
      ],
      "source": [
        "# and once more\n",
        "\n",
        "for event in graph.stream(None, config, stream_mode=\"values\"):\n",
        "    event[\"messages\"][-1].pretty_print()"
      ]
    },
    {
      "cell_type": "code",
      "execution_count": 20,
      "metadata": {
        "colab": {
          "base_uri": "https://localhost:8080/"
        },
        "id": "u8-WifRg-uH7",
        "outputId": "e13dcc79-57a9-4ee6-cf86-0971b593147a"
      },
      "outputs": [
        {
          "name": "stdout",
          "output_type": "stream",
          "text": [
            "()\n"
          ]
        }
      ],
      "source": [
        "# the flow is finished\n",
        "\n",
        "state = graph.get_state(config)\n",
        "print(state.next)"
      ]
    }
  ],
  "metadata": {
    "colab": {
      "provenance": []
    },
    "kernelspec": {
      "display_name": "venvagent",
      "language": "python",
      "name": "python3"
    },
    "language_info": {
      "codemirror_mode": {
        "name": "ipython",
        "version": 3
      },
      "file_extension": ".py",
      "mimetype": "text/x-python",
      "name": "python",
      "nbconvert_exporter": "python",
      "pygments_lexer": "ipython3",
      "version": "3.12.0"
    }
  },
  "nbformat": 4,
  "nbformat_minor": 0
}
