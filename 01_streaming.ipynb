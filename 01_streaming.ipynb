{
  "cells": [
    {
      "cell_type": "code",
      "execution_count": 2,
      "metadata": {
        "id": "-DTy3MT-EpQ_",
        "outputId": "a3c71422-8342-4255-e0c6-182c9afb0e4c"
      },
      "outputs": [
        {
          "data": {
            "text/plain": [
              "True"
            ]
          },
          "execution_count": 2,
          "metadata": {},
          "output_type": "execute_result"
        }
      ],
      "source": [
        "from dotenv import load_dotenv\n",
        "load_dotenv()"
      ]
    },
    {
      "cell_type": "code",
      "execution_count": null,
      "metadata": {
        "id": "FTqcpJyAEpRA",
        "outputId": "734bcd50-1165-44b6-a770-ccd167ddb697"
      },
      "outputs": [
        {
          "name": "stdout",
          "output_type": "stream",
          "text": [
            "Note: you may need to restart the kernel to use updated packages.\n"
          ]
        }
      ],
      "source": [
        "%pip install -Uq langgraph langgraph_sdk langchain_openai"
      ]
    },
    {
      "cell_type": "code",
      "execution_count": 1,
      "metadata": {
        "id": "u8H_K0s6EpRA",
        "outputId": "2c3fc2bf-68d5-4a7c-8bf5-8db817d71c94"
      },
      "outputs": [
        {
          "data": {
            "image/png": "[encoded data removed]",
            "text/plain": [
              "<IPython.core.display.Image object>"
            ]
          },
          "metadata": {},
          "output_type": "display_data"
        }
      ],
      "source": [
        "from IPython.display import Image, display\n",
        "\n",
        "from langchain_openai import ChatOpenAI\n",
        "#from langchain_groq import ChatGroq\n",
        "from langchain_core.messages import SystemMessage, HumanMessage\n",
        "\n",
        "from langgraph.checkpoint.memory import MemorySaver\n",
        "from langgraph.graph import StateGraph, START, END\n",
        "from langgraph.graph import MessagesState\n",
        "\n",
        "llm = ChatOpenAI(model=\"gpt-4o-mini\", temperature=0)\n",
        "# llm = ChatGroq()\n",
        "\n",
        "# state\n",
        "class State(MessagesState):\n",
        "    summary: str\n",
        "\n",
        "# nodes\n",
        "def call_llm(state: State):\n",
        "    summary = state.get(\"summary\", \"\")\n",
        "    if summary:\n",
        "        system_message = f\"Summary of the conversation so far: {summary}\"\n",
        "        messages = [SystemMessage(system_message)] + state['messages']\n",
        "    else:\n",
        "        messages = state['messages']\n",
        "    response = llm.invoke(messages)\n",
        "    return {\"messages\": response}\n",
        "\n",
        "def summarize(state: State):\n",
        "    summary = state.get(\"summary\", \"\")\n",
        "    if summary:\n",
        "        summary_message = f\"\"\"\n",
        "        Here is the summary of the conversation so far: {summary}\n",
        "        Extend thi summary by taking into account the new messages above.\n",
        "        \"\"\"\n",
        "    else:\n",
        "        summary_message = \"Create a summary of the conversation so far.\"\n",
        "\n",
        "    messages = state['messages'] + [HumanMessage(summary_message)]\n",
        "    generated_summary = llm.invoke(messages)\n",
        "\n",
        "    delete_messages = [m for m in state['messages'][:-2]]\n",
        "    return {\"summary\": generated_summary, \"messages\": delete_messages}\n",
        "\n",
        "# conditional edge\n",
        "def should_continue(state: State):\n",
        "    messages = state.get(\"messages\", [])\n",
        "    if len(messages) > 6:\n",
        "        return \"summarize\"\n",
        "    return END\n",
        "\n",
        "# graph\n",
        "builder = StateGraph(State)\n",
        "builder.add_node(call_llm)\n",
        "builder.add_node(summarize)\n",
        "\n",
        "builder.add_edge(START, \"call_llm\")\n",
        "builder.add_conditional_edges(\"call_llm\", should_continue)\n",
        "builder.add_edge(\"summarize\", END)\n",
        "\n",
        "# memory and compile\n",
        "memory = MemorySaver()\n",
        "graph = builder.compile(checkpointer=memory)\n",
        "display(Image(graph.get_graph().draw_mermaid_png()))"
      ]
    },
    {
      "cell_type": "markdown",
      "metadata": {
        "id": "MjAFZ1mNEpRB"
      },
      "source": [
        "## Streaming updates\n",
        "\n",
        "Streams only the new data points to the client."
      ]
    },
    {
      "cell_type": "code",
      "execution_count": null,
      "metadata": {
        "id": "vtr5VLH6EpRB",
        "outputId": "1fd0586f-ae64-4d6e-f594-967c6c5bb4cf"
      },
      "outputs": [
        {
          "name": "stdout",
          "output_type": "stream",
          "text": [
            "==================================\u001b[1m Ai Message \u001b[0m==================================\n",
            "\n",
            "5 times 4 is 20.\n"
          ]
        }
      ],
      "source": [
        "config = {\"configurable\": {\"thread_id\": \"11\"}}\n",
        "\n",
        "messages = [HumanMessage(content=\"how much is 5 times 4?\")]\n",
        "\n",
        "# each chunk is a new message that was streamed\n",
        "for chunk in graph.stream(\n",
        "      {\"messages\":messages}, config=config, stream_mode=\"updates\"\n",
        "    ):\n",
        "    chunk['call_llm']['messages'].pretty_print()\n"
      ]
    },
    {
      "cell_type": "code",
      "execution_count": 3,
      "metadata": {
        "id": "qSo8G0qzEpRB",
        "outputId": "c17fa056-efdc-45f8-e52a-f4d2fc0a04c9"
      },
      "outputs": [
        {
          "name": "stdout",
          "output_type": "stream",
          "text": [
            "================================\u001b[1m Human Message \u001b[0m=================================\n",
            "\n",
            "how much is 5 times 4?\n",
            "==================================\u001b[1m Ai Message \u001b[0m==================================\n",
            "\n",
            "5 times 4 is 20.\n"
          ]
        }
      ],
      "source": [
        "# complete list of messages\n",
        "\n",
        "for m in graph.get_state(config=config).values.get(\"messages\", []):\n",
        "    m.pretty_print()"
      ]
    },
    {
      "cell_type": "markdown",
      "metadata": {
        "id": "HQM40T0xEpRC"
      },
      "source": [
        "## Streaming values\n",
        "\n",
        "Each time, you receive an entire array of values."
      ]
    },
    {
      "cell_type": "code",
      "execution_count": 4,
      "metadata": {
        "id": "xO-zScVBEpRC",
        "outputId": "2ee4fead-f165-49d4-ab45-ca2203be5059"
      },
      "outputs": [
        {
          "name": "stdout",
          "output_type": "stream",
          "text": [
            "\n",
            "################################################################################\n",
            "\n",
            "================================\u001b[1m Human Message \u001b[0m=================================\n",
            "\n",
            "how much is 2 times 10?\n",
            "\n",
            "################################################################################\n",
            "\n",
            "================================\u001b[1m Human Message \u001b[0m=================================\n",
            "\n",
            "how much is 2 times 10?\n",
            "==================================\u001b[1m Ai Message \u001b[0m==================================\n",
            "\n",
            "2 times 10 is 20.\n"
          ]
        }
      ],
      "source": [
        "config = {\"configurable\": {\"thread_id\": \"2\"}}\n",
        "\n",
        "messages = [HumanMessage(content=\"how much is 2 times 10?\")]\n",
        "\n",
        "for chunk in graph.stream(\n",
        "      {\"messages\":messages}, config=config, stream_mode=\"values\"\n",
        "    ):\n",
        "    print(\"\\n\" + \"#\"*80 + \"\\n\")\n",
        "    for m in chunk['messages']:\n",
        "        m.pretty_print()\n"
      ]
    },
    {
      "cell_type": "code",
      "execution_count": 5,
      "metadata": {
        "id": "9jj0hbM8EpRC",
        "outputId": "f4f79779-50ee-4fed-d8f0-611c37bc4ef6"
      },
      "outputs": [
        {
          "name": "stdout",
          "output_type": "stream",
          "text": [
            "================================\u001b[1m Human Message \u001b[0m=================================\n",
            "\n",
            "how much is 2 times 10?\n",
            "==================================\u001b[1m Ai Message \u001b[0m==================================\n",
            "\n",
            "2 times 10 is 20.\n"
          ]
        }
      ],
      "source": [
        "for m in graph.get_state(config).values.get(\"messages\"):\n",
        "  m.pretty_print()"
      ]
    },
    {
      "cell_type": "markdown",
      "metadata": {
        "id": "acIcAp3rEpRC"
      },
      "source": [
        "## Streaming tokens"
      ]
    },
    {
      "cell_type": "markdown",
      "metadata": {
        "id": "MrXW7SttEpRC"
      },
      "source": [
        "check the code below. events that contain tokens are of type `on_chat_model_stream` and name`ChatGroq` (because we are usig Groq)."
      ]
    },
    {
      "cell_type": "code",
      "execution_count": 6,
      "metadata": {
        "id": "T7-zAclFEpRC",
        "outputId": "6c35c51f-d31d-4eab-b8ac-3e3c09a7bba5"
      },
      "outputs": [
        {
          "name": "stdout",
          "output_type": "stream",
          "text": [
            "{'event': 'on_chain_start', 'data': {'input': {'messages': [HumanMessage(content='how much is 2 times 10?', additional_kwargs={}, response_metadata={})]}}, 'name': 'LangGraph', 'tags': [], 'run_id': '3ab13c81-c6bc-4052-bfd9-73776decfdc5', 'metadata': {'thread_id': '9'}, 'parent_ids': []}\n",
            "{'event': 'on_chain_start', 'data': {'input': {'messages': [HumanMessage(content='how much is 2 times 10?', additional_kwargs={}, response_metadata={}, id='a707f30b-8ea5-476a-b5e0-25d1f346813f')]}}, 'name': 'call_llm', 'tags': ['graph:step:1'], 'run_id': '48d4950e-0209-4ea5-9d99-5e9e2e415325', 'metadata': {'thread_id': '9', 'langgraph_step': 1, 'langgraph_node': 'call_llm', 'langgraph_triggers': ('branch:to:call_llm',), 'langgraph_path': ('__pregel_pull', 'call_llm'), 'langgraph_checkpoint_ns': 'call_llm:5e074ac2-0836-29bd-52c0-4153b7e17a37'}, 'parent_ids': ['3ab13c81-c6bc-4052-bfd9-73776decfdc5']}\n",
            "{'event': 'on_chat_model_start', 'data': {'input': {'messages': [[HumanMessage(content='how much is 2 times 10?', additional_kwargs={}, response_metadata={}, id='a707f30b-8ea5-476a-b5e0-25d1f346813f')]]}}, 'name': 'ChatOpenAI', 'tags': ['seq:step:1'], 'run_id': '333511c2-8a3a-435a-8c08-90a91f7a1e55', 'metadata': {'thread_id': '9', 'langgraph_step': 1, 'langgraph_node': 'call_llm', 'langgraph_triggers': ('branch:to:call_llm',), 'langgraph_path': ('__pregel_pull', 'call_llm'), 'langgraph_checkpoint_ns': 'call_llm:5e074ac2-0836-29bd-52c0-4153b7e17a37', 'checkpoint_ns': 'call_llm:5e074ac2-0836-29bd-52c0-4153b7e17a37', 'ls_provider': 'openai', 'ls_model_name': 'gpt-4o-mini', 'ls_model_type': 'chat', 'ls_temperature': 0.0}, 'parent_ids': ['3ab13c81-c6bc-4052-bfd9-73776decfdc5', '48d4950e-0209-4ea5-9d99-5e9e2e415325']}\n",
            "{'event': 'on_chat_model_stream', 'data': {'chunk': AIMessageChunk(content='', additional_kwargs={}, response_metadata={}, id='run--333511c2-8a3a-435a-8c08-90a91f7a1e55')}, 'run_id': '333511c2-8a3a-435a-8c08-90a91f7a1e55', 'name': 'ChatOpenAI', 'tags': ['seq:step:1'], 'metadata': {'thread_id': '9', 'langgraph_step': 1, 'langgraph_node': 'call_llm', 'langgraph_triggers': ('branch:to:call_llm',), 'langgraph_path': ('__pregel_pull', 'call_llm'), 'langgraph_checkpoint_ns': 'call_llm:5e074ac2-0836-29bd-52c0-4153b7e17a37', 'checkpoint_ns': 'call_llm:5e074ac2-0836-29bd-52c0-4153b7e17a37', 'ls_provider': 'openai', 'ls_model_name': 'gpt-4o-mini', 'ls_model_type': 'chat', 'ls_temperature': 0.0}, 'parent_ids': ['3ab13c81-c6bc-4052-bfd9-73776decfdc5', '48d4950e-0209-4ea5-9d99-5e9e2e415325']}\n",
            "{'event': 'on_chat_model_stream', 'data': {'chunk': AIMessageChunk(content='2', additional_kwargs={}, response_metadata={}, id='run--333511c2-8a3a-435a-8c08-90a91f7a1e55')}, 'run_id': '333511c2-8a3a-435a-8c08-90a91f7a1e55', 'name': 'ChatOpenAI', 'tags': ['seq:step:1'], 'metadata': {'thread_id': '9', 'langgraph_step': 1, 'langgraph_node': 'call_llm', 'langgraph_triggers': ('branch:to:call_llm',), 'langgraph_path': ('__pregel_pull', 'call_llm'), 'langgraph_checkpoint_ns': 'call_llm:5e074ac2-0836-29bd-52c0-4153b7e17a37', 'checkpoint_ns': 'call_llm:5e074ac2-0836-29bd-52c0-4153b7e17a37', 'ls_provider': 'openai', 'ls_model_name': 'gpt-4o-mini', 'ls_model_type': 'chat', 'ls_temperature': 0.0}, 'parent_ids': ['3ab13c81-c6bc-4052-bfd9-73776decfdc5', '48d4950e-0209-4ea5-9d99-5e9e2e415325']}\n",
            "{'event': 'on_chat_model_stream', 'data': {'chunk': AIMessageChunk(content=' times', additional_kwargs={}, response_metadata={}, id='run--333511c2-8a3a-435a-8c08-90a91f7a1e55')}, 'run_id': '333511c2-8a3a-435a-8c08-90a91f7a1e55', 'name': 'ChatOpenAI', 'tags': ['seq:step:1'], 'metadata': {'thread_id': '9', 'langgraph_step': 1, 'langgraph_node': 'call_llm', 'langgraph_triggers': ('branch:to:call_llm',), 'langgraph_path': ('__pregel_pull', 'call_llm'), 'langgraph_checkpoint_ns': 'call_llm:5e074ac2-0836-29bd-52c0-4153b7e17a37', 'checkpoint_ns': 'call_llm:5e074ac2-0836-29bd-52c0-4153b7e17a37', 'ls_provider': 'openai', 'ls_model_name': 'gpt-4o-mini', 'ls_model_type': 'chat', 'ls_temperature': 0.0}, 'parent_ids': ['3ab13c81-c6bc-4052-bfd9-73776decfdc5', '48d4950e-0209-4ea5-9d99-5e9e2e415325']}\n",
            "{'event': 'on_chat_model_stream', 'data': {'chunk': AIMessageChunk(content=' ', additional_kwargs={}, response_metadata={}, id='run--333511c2-8a3a-435a-8c08-90a91f7a1e55')}, 'run_id': '333511c2-8a3a-435a-8c08-90a91f7a1e55', 'name': 'ChatOpenAI', 'tags': ['seq:step:1'], 'metadata': {'thread_id': '9', 'langgraph_step': 1, 'langgraph_node': 'call_llm', 'langgraph_triggers': ('branch:to:call_llm',), 'langgraph_path': ('__pregel_pull', 'call_llm'), 'langgraph_checkpoint_ns': 'call_llm:5e074ac2-0836-29bd-52c0-4153b7e17a37', 'checkpoint_ns': 'call_llm:5e074ac2-0836-29bd-52c0-4153b7e17a37', 'ls_provider': 'openai', 'ls_model_name': 'gpt-4o-mini', 'ls_model_type': 'chat', 'ls_temperature': 0.0}, 'parent_ids': ['3ab13c81-c6bc-4052-bfd9-73776decfdc5', '48d4950e-0209-4ea5-9d99-5e9e2e415325']}\n",
            "{'event': 'on_chat_model_stream', 'data': {'chunk': AIMessageChunk(content='10', additional_kwargs={}, response_metadata={}, id='run--333511c2-8a3a-435a-8c08-90a91f7a1e55')}, 'run_id': '333511c2-8a3a-435a-8c08-90a91f7a1e55', 'name': 'ChatOpenAI', 'tags': ['seq:step:1'], 'metadata': {'thread_id': '9', 'langgraph_step': 1, 'langgraph_node': 'call_llm', 'langgraph_triggers': ('branch:to:call_llm',), 'langgraph_path': ('__pregel_pull', 'call_llm'), 'langgraph_checkpoint_ns': 'call_llm:5e074ac2-0836-29bd-52c0-4153b7e17a37', 'checkpoint_ns': 'call_llm:5e074ac2-0836-29bd-52c0-4153b7e17a37', 'ls_provider': 'openai', 'ls_model_name': 'gpt-4o-mini', 'ls_model_type': 'chat', 'ls_temperature': 0.0}, 'parent_ids': ['3ab13c81-c6bc-4052-bfd9-73776decfdc5', '48d4950e-0209-4ea5-9d99-5e9e2e415325']}\n",
            "{'event': 'on_chat_model_stream', 'data': {'chunk': AIMessageChunk(content=' is', additional_kwargs={}, response_metadata={}, id='run--333511c2-8a3a-435a-8c08-90a91f7a1e55')}, 'run_id': '333511c2-8a3a-435a-8c08-90a91f7a1e55', 'name': 'ChatOpenAI', 'tags': ['seq:step:1'], 'metadata': {'thread_id': '9', 'langgraph_step': 1, 'langgraph_node': 'call_llm', 'langgraph_triggers': ('branch:to:call_llm',), 'langgraph_path': ('__pregel_pull', 'call_llm'), 'langgraph_checkpoint_ns': 'call_llm:5e074ac2-0836-29bd-52c0-4153b7e17a37', 'checkpoint_ns': 'call_llm:5e074ac2-0836-29bd-52c0-4153b7e17a37', 'ls_provider': 'openai', 'ls_model_name': 'gpt-4o-mini', 'ls_model_type': 'chat', 'ls_temperature': 0.0}, 'parent_ids': ['3ab13c81-c6bc-4052-bfd9-73776decfdc5', '48d4950e-0209-4ea5-9d99-5e9e2e415325']}\n",
            "{'event': 'on_chat_model_stream', 'data': {'chunk': AIMessageChunk(content=' ', additional_kwargs={}, response_metadata={}, id='run--333511c2-8a3a-435a-8c08-90a91f7a1e55')}, 'run_id': '333511c2-8a3a-435a-8c08-90a91f7a1e55', 'name': 'ChatOpenAI', 'tags': ['seq:step:1'], 'metadata': {'thread_id': '9', 'langgraph_step': 1, 'langgraph_node': 'call_llm', 'langgraph_triggers': ('branch:to:call_llm',), 'langgraph_path': ('__pregel_pull', 'call_llm'), 'langgraph_checkpoint_ns': 'call_llm:5e074ac2-0836-29bd-52c0-4153b7e17a37', 'checkpoint_ns': 'call_llm:5e074ac2-0836-29bd-52c0-4153b7e17a37', 'ls_provider': 'openai', 'ls_model_name': 'gpt-4o-mini', 'ls_model_type': 'chat', 'ls_temperature': 0.0}, 'parent_ids': ['3ab13c81-c6bc-4052-bfd9-73776decfdc5', '48d4950e-0209-4ea5-9d99-5e9e2e415325']}\n",
            "{'event': 'on_chat_model_stream', 'data': {'chunk': AIMessageChunk(content='20', additional_kwargs={}, response_metadata={}, id='run--333511c2-8a3a-435a-8c08-90a91f7a1e55')}, 'run_id': '333511c2-8a3a-435a-8c08-90a91f7a1e55', 'name': 'ChatOpenAI', 'tags': ['seq:step:1'], 'metadata': {'thread_id': '9', 'langgraph_step': 1, 'langgraph_node': 'call_llm', 'langgraph_triggers': ('branch:to:call_llm',), 'langgraph_path': ('__pregel_pull', 'call_llm'), 'langgraph_checkpoint_ns': 'call_llm:5e074ac2-0836-29bd-52c0-4153b7e17a37', 'checkpoint_ns': 'call_llm:5e074ac2-0836-29bd-52c0-4153b7e17a37', 'ls_provider': 'openai', 'ls_model_name': 'gpt-4o-mini', 'ls_model_type': 'chat', 'ls_temperature': 0.0}, 'parent_ids': ['3ab13c81-c6bc-4052-bfd9-73776decfdc5', '48d4950e-0209-4ea5-9d99-5e9e2e415325']}\n",
            "{'event': 'on_chat_model_stream', 'data': {'chunk': AIMessageChunk(content='.', additional_kwargs={}, response_metadata={}, id='run--333511c2-8a3a-435a-8c08-90a91f7a1e55')}, 'run_id': '333511c2-8a3a-435a-8c08-90a91f7a1e55', 'name': 'ChatOpenAI', 'tags': ['seq:step:1'], 'metadata': {'thread_id': '9', 'langgraph_step': 1, 'langgraph_node': 'call_llm', 'langgraph_triggers': ('branch:to:call_llm',), 'langgraph_path': ('__pregel_pull', 'call_llm'), 'langgraph_checkpoint_ns': 'call_llm:5e074ac2-0836-29bd-52c0-4153b7e17a37', 'checkpoint_ns': 'call_llm:5e074ac2-0836-29bd-52c0-4153b7e17a37', 'ls_provider': 'openai', 'ls_model_name': 'gpt-4o-mini', 'ls_model_type': 'chat', 'ls_temperature': 0.0}, 'parent_ids': ['3ab13c81-c6bc-4052-bfd9-73776decfdc5', '48d4950e-0209-4ea5-9d99-5e9e2e415325']}\n",
            "{'event': 'on_chat_model_stream', 'data': {'chunk': AIMessageChunk(content='', additional_kwargs={}, response_metadata={'finish_reason': 'stop', 'model_name': 'gpt-4o-mini-2024-07-18', 'system_fingerprint': 'fp_560af6e559', 'service_tier': 'default'}, id='run--333511c2-8a3a-435a-8c08-90a91f7a1e55')}, 'run_id': '333511c2-8a3a-435a-8c08-90a91f7a1e55', 'name': 'ChatOpenAI', 'tags': ['seq:step:1'], 'metadata': {'thread_id': '9', 'langgraph_step': 1, 'langgraph_node': 'call_llm', 'langgraph_triggers': ('branch:to:call_llm',), 'langgraph_path': ('__pregel_pull', 'call_llm'), 'langgraph_checkpoint_ns': 'call_llm:5e074ac2-0836-29bd-52c0-4153b7e17a37', 'checkpoint_ns': 'call_llm:5e074ac2-0836-29bd-52c0-4153b7e17a37', 'ls_provider': 'openai', 'ls_model_name': 'gpt-4o-mini', 'ls_model_type': 'chat', 'ls_temperature': 0.0}, 'parent_ids': ['3ab13c81-c6bc-4052-bfd9-73776decfdc5', '48d4950e-0209-4ea5-9d99-5e9e2e415325']}\n",
            "{'event': 'on_chat_model_end', 'data': {'output': AIMessage(content='2 times 10 is 20.', additional_kwargs={}, response_metadata={'finish_reason': 'stop', 'model_name': 'gpt-4o-mini-2024-07-18', 'system_fingerprint': 'fp_560af6e559', 'service_tier': 'default'}, id='run--333511c2-8a3a-435a-8c08-90a91f7a1e55'), 'input': {'messages': [[HumanMessage(content='how much is 2 times 10?', additional_kwargs={}, response_metadata={}, id='a707f30b-8ea5-476a-b5e0-25d1f346813f')]]}}, 'run_id': '333511c2-8a3a-435a-8c08-90a91f7a1e55', 'name': 'ChatOpenAI', 'tags': ['seq:step:1'], 'metadata': {'thread_id': '9', 'langgraph_step': 1, 'langgraph_node': 'call_llm', 'langgraph_triggers': ('branch:to:call_llm',), 'langgraph_path': ('__pregel_pull', 'call_llm'), 'langgraph_checkpoint_ns': 'call_llm:5e074ac2-0836-29bd-52c0-4153b7e17a37', 'checkpoint_ns': 'call_llm:5e074ac2-0836-29bd-52c0-4153b7e17a37', 'ls_provider': 'openai', 'ls_model_name': 'gpt-4o-mini', 'ls_model_type': 'chat', 'ls_temperature': 0.0}, 'parent_ids': ['3ab13c81-c6bc-4052-bfd9-73776decfdc5', '48d4950e-0209-4ea5-9d99-5e9e2e415325']}\n",
            "{'event': 'on_chain_start', 'data': {'input': {'messages': [HumanMessage(content='how much is 2 times 10?', additional_kwargs={}, response_metadata={}, id='a707f30b-8ea5-476a-b5e0-25d1f346813f'), AIMessage(content='2 times 10 is 20.', additional_kwargs={}, response_metadata={'finish_reason': 'stop', 'model_name': 'gpt-4o-mini-2024-07-18', 'system_fingerprint': 'fp_560af6e559', 'service_tier': 'default'}, id='run--333511c2-8a3a-435a-8c08-90a91f7a1e55')]}}, 'name': 'should_continue', 'tags': ['seq:step:3'], 'run_id': '540fd38e-2a0a-4fb2-a391-ec844ef6990f', 'metadata': {'thread_id': '9', 'langgraph_step': 1, 'langgraph_node': 'call_llm', 'langgraph_triggers': ('branch:to:call_llm',), 'langgraph_path': ('__pregel_pull', 'call_llm'), 'langgraph_checkpoint_ns': 'call_llm:5e074ac2-0836-29bd-52c0-4153b7e17a37'}, 'parent_ids': ['3ab13c81-c6bc-4052-bfd9-73776decfdc5', '48d4950e-0209-4ea5-9d99-5e9e2e415325']}\n",
            "{'event': 'on_chain_end', 'data': {'output': '__end__', 'input': {'messages': [HumanMessage(content='how much is 2 times 10?', additional_kwargs={}, response_metadata={}, id='a707f30b-8ea5-476a-b5e0-25d1f346813f'), AIMessage(content='2 times 10 is 20.', additional_kwargs={}, response_metadata={'finish_reason': 'stop', 'model_name': 'gpt-4o-mini-2024-07-18', 'system_fingerprint': 'fp_560af6e559', 'service_tier': 'default'}, id='run--333511c2-8a3a-435a-8c08-90a91f7a1e55')]}}, 'run_id': '540fd38e-2a0a-4fb2-a391-ec844ef6990f', 'name': 'should_continue', 'tags': ['seq:step:3'], 'metadata': {'thread_id': '9', 'langgraph_step': 1, 'langgraph_node': 'call_llm', 'langgraph_triggers': ('branch:to:call_llm',), 'langgraph_path': ('__pregel_pull', 'call_llm'), 'langgraph_checkpoint_ns': 'call_llm:5e074ac2-0836-29bd-52c0-4153b7e17a37'}, 'parent_ids': ['3ab13c81-c6bc-4052-bfd9-73776decfdc5', '48d4950e-0209-4ea5-9d99-5e9e2e415325']}\n",
            "{'event': 'on_chain_stream', 'run_id': '48d4950e-0209-4ea5-9d99-5e9e2e415325', 'name': 'call_llm', 'tags': ['graph:step:1'], 'metadata': {'thread_id': '9', 'langgraph_step': 1, 'langgraph_node': 'call_llm', 'langgraph_triggers': ('branch:to:call_llm',), 'langgraph_path': ('__pregel_pull', 'call_llm'), 'langgraph_checkpoint_ns': 'call_llm:5e074ac2-0836-29bd-52c0-4153b7e17a37'}, 'data': {'chunk': {'messages': AIMessage(content='2 times 10 is 20.', additional_kwargs={}, response_metadata={'finish_reason': 'stop', 'model_name': 'gpt-4o-mini-2024-07-18', 'system_fingerprint': 'fp_560af6e559', 'service_tier': 'default'}, id='run--333511c2-8a3a-435a-8c08-90a91f7a1e55')}}, 'parent_ids': ['3ab13c81-c6bc-4052-bfd9-73776decfdc5']}\n",
            "{'event': 'on_chain_end', 'data': {'output': {'messages': AIMessage(content='2 times 10 is 20.', additional_kwargs={}, response_metadata={'finish_reason': 'stop', 'model_name': 'gpt-4o-mini-2024-07-18', 'system_fingerprint': 'fp_560af6e559', 'service_tier': 'default'}, id='run--333511c2-8a3a-435a-8c08-90a91f7a1e55')}, 'input': {'messages': [HumanMessage(content='how much is 2 times 10?', additional_kwargs={}, response_metadata={}, id='a707f30b-8ea5-476a-b5e0-25d1f346813f')]}}, 'run_id': '48d4950e-0209-4ea5-9d99-5e9e2e415325', 'name': 'call_llm', 'tags': ['graph:step:1'], 'metadata': {'thread_id': '9', 'langgraph_step': 1, 'langgraph_node': 'call_llm', 'langgraph_triggers': ('branch:to:call_llm',), 'langgraph_path': ('__pregel_pull', 'call_llm'), 'langgraph_checkpoint_ns': 'call_llm:5e074ac2-0836-29bd-52c0-4153b7e17a37'}, 'parent_ids': ['3ab13c81-c6bc-4052-bfd9-73776decfdc5']}\n",
            "{'event': 'on_chain_stream', 'run_id': '3ab13c81-c6bc-4052-bfd9-73776decfdc5', 'name': 'LangGraph', 'tags': [], 'metadata': {'thread_id': '9'}, 'data': {'chunk': {'call_llm': {'messages': AIMessage(content='2 times 10 is 20.', additional_kwargs={}, response_metadata={'finish_reason': 'stop', 'model_name': 'gpt-4o-mini-2024-07-18', 'system_fingerprint': 'fp_560af6e559', 'service_tier': 'default'}, id='run--333511c2-8a3a-435a-8c08-90a91f7a1e55')}}}, 'parent_ids': []}\n",
            "{'event': 'on_chain_end', 'data': {'output': {'messages': [HumanMessage(content='how much is 2 times 10?', additional_kwargs={}, response_metadata={}, id='a707f30b-8ea5-476a-b5e0-25d1f346813f'), AIMessage(content='2 times 10 is 20.', additional_kwargs={}, response_metadata={'finish_reason': 'stop', 'model_name': 'gpt-4o-mini-2024-07-18', 'system_fingerprint': 'fp_560af6e559', 'service_tier': 'default'}, id='run--333511c2-8a3a-435a-8c08-90a91f7a1e55')]}}, 'run_id': '3ab13c81-c6bc-4052-bfd9-73776decfdc5', 'name': 'LangGraph', 'tags': [], 'metadata': {'thread_id': '9'}, 'parent_ids': []}\n"
          ]
        }
      ],
      "source": [
        "from pprint import pprint\n",
        "config = {\"configurable\": {\"thread_id\": \"9\"}}\n",
        "\n",
        "input_message = HumanMessage(content=\"how much is 2 times 10?\")\n",
        "async for event in graph.astream_events(\n",
        "    {\"messages\":[input_message]},\n",
        "    config,\n",
        "    version=\"v2\"\n",
        "  ):\n",
        "   print(event)\n",
        "  #pprint(f\"node: {event['metadata'].get('langgraph_node', '')}. type: {event['event']}. name: {event['name']}\")"
      ]
    },
    {
      "cell_type": "code",
      "execution_count": 7,
      "metadata": {
        "id": "Q_OVKxdwEpRC",
        "outputId": "65bf8330-ca6c-42d5-e6f7-fed020b12d0e"
      },
      "outputs": [
        {
          "name": "stdout",
          "output_type": "stream",
          "text": [
            "{'chunk': AIMessageChunk(content='', additional_kwargs={}, response_metadata={}, id='run--752f5000-e9c0-4d28-b2bf-48284cd0d5f6')}\n",
            "{'chunk': AIMessageChunk(content='2', additional_kwargs={}, response_metadata={}, id='run--752f5000-e9c0-4d28-b2bf-48284cd0d5f6')}\n",
            "{'chunk': AIMessageChunk(content=' times', additional_kwargs={}, response_metadata={}, id='run--752f5000-e9c0-4d28-b2bf-48284cd0d5f6')}\n",
            "{'chunk': AIMessageChunk(content=' ', additional_kwargs={}, response_metadata={}, id='run--752f5000-e9c0-4d28-b2bf-48284cd0d5f6')}\n",
            "{'chunk': AIMessageChunk(content='10', additional_kwargs={}, response_metadata={}, id='run--752f5000-e9c0-4d28-b2bf-48284cd0d5f6')}\n",
            "{'chunk': AIMessageChunk(content=' is', additional_kwargs={}, response_metadata={}, id='run--752f5000-e9c0-4d28-b2bf-48284cd0d5f6')}\n",
            "{'chunk': AIMessageChunk(content=' ', additional_kwargs={}, response_metadata={}, id='run--752f5000-e9c0-4d28-b2bf-48284cd0d5f6')}\n",
            "{'chunk': AIMessageChunk(content='20', additional_kwargs={}, response_metadata={}, id='run--752f5000-e9c0-4d28-b2bf-48284cd0d5f6')}\n",
            "{'chunk': AIMessageChunk(content='.', additional_kwargs={}, response_metadata={}, id='run--752f5000-e9c0-4d28-b2bf-48284cd0d5f6')}\n",
            "{'chunk': AIMessageChunk(content='', additional_kwargs={}, response_metadata={'finish_reason': 'stop', 'model_name': 'gpt-4o-mini-2024-07-18', 'system_fingerprint': 'fp_560af6e559', 'service_tier': 'default'}, id='run--752f5000-e9c0-4d28-b2bf-48284cd0d5f6')}\n"
          ]
        }
      ],
      "source": [
        "config = {\"configurable\": {\"thread_id\": \"321\"}}\n",
        "\n",
        "input_message = HumanMessage(content=\"how much is 2 times 10?\")\n",
        "async for event in graph.astream_events(\n",
        "  {\"messages\":[input_message]},\n",
        "  config,\n",
        "  version=\"v2\"\n",
        "  ):\n",
        "  if event['event'] == \"on_chat_model_stream\":\n",
        "    # event['data'] contains a chunk\n",
        "    print(event[\"data\"])"
      ]
    },
    {
      "cell_type": "code",
      "execution_count": 8,
      "metadata": {
        "id": "2U3US-JyEpRC",
        "outputId": "bb0e3d66-2114-434d-87d8-7a9afc8f8e03"
      },
      "outputs": [
        {
          "name": "stdout",
          "output_type": "stream",
          "text": [
            "Once upon a time, in a kingdom nestled between lush green hills and sparkling rivers, there lived a wise and benevolent king named King Alaric. He ruled the land of Eldoria with kindness and fairness, and his people adored him. The kingdom thrived under his reign, and peace reigned for many years.\n",
            "\n",
            "King Alaric had a daughter named Princess Elara, a spirited young woman with a heart full of dreams. She was known throughout the kingdom for her beauty, intelligence, and compassion. Elara often wandered through the villages, listening to the stories of her people and helping those in need. She longed for adventure beyond the castle walls, dreaming of exploring the world and making a difference.\n",
            "\n",
            "One day, while walking in the royal gardens, Elara stumbled upon an ancient, weathered map hidden beneath a stone. Intrigued, she carefully unfolded it and discovered it depicted a hidden treasure located deep within the Enchanted Forest, a mystical place said to be filled with magical creatures and untold wonders. The treasure was rumored to possess the power to grant one wish to the person who found it.\n",
            "\n",
            "Excited by the prospect of adventure, Elara decided to embark on a quest to find the treasure. She approached her father, King Alaric, and shared her discovery. The king, though initially hesitant, recognized his daughter’s determination and spirit. He knew that this journey could teach her valuable lessons about courage and responsibility. After much discussion, he agreed to let her go, but only if she took a trusted knight, Sir Cedric, with her for protection.\n",
            "\n",
            "The next morning, Elara and Sir Cedric set off on their adventure, traveling through the vibrant landscapes of Eldoria. They crossed rivers, climbed mountains, and navigated through the Enchanted Forest, where they encountered talking animals, mischievous fairies, and wise old trees that shared their ancient knowledge.\n",
            "\n",
            "As they journeyed deeper into the forest, they faced various challenges that tested their bravery and friendship. They had to solve riddles posed by a clever fox, outsmart a grumpy troll guarding a bridge, and help a lost bird find its way home. With each challenge, Elara’s courage grew, and she learned the importance of teamwork and kindness.\n",
            "\n",
            "Finally, after days of adventure, they reached the location marked on the map—a hidden glade bathed in golden light. In the center stood a magnificent chest adorned with jewels and intricate carvings. With a mix of excitement and trepidation, Elara approached the chest and opened it. Inside, they found not gold or jewels, but a shimmering crystal that pulsed with a warm, inviting glow.\n",
            "\n",
            "As Elara held the crystal, she felt a surge of energy and clarity. She realized that the true treasure was not material wealth but the experiences she had gained and the friendships she had forged along the way. With a heart full of gratitude, she made her wish—not for herself, but for her kingdom. She wished for prosperity and happiness for all the people of Eldoria.\n",
            "\n",
            "In an instant, the crystal glowed brighter, and a wave of magic spread across the land. Crops flourished, rivers sparkled, and laughter filled the air as the people of Eldoria thrived. Elara and Sir Cedric returned to the castle, greeted as heroes. King Alaric embraced his daughter, proud of the woman she had become.\n",
            "\n",
            "From that day on, Princess Elara continued to explore the kingdom, using her newfound wisdom to help her people. She and Sir Cedric became inseparable friends, embarking on many more adventures together. And King Alaric, seeing the strength and compassion in his daughter, knew that the future of Eldoria was in good hands.\n",
            "\n",
            "And so, the kingdom of Eldoria flourished, filled with love, laughter, and the spirit of adventure, all thanks to a brave princess and her unwavering heart. \n",
            "\n",
            "And they all lived happily ever after."
          ]
        }
      ],
      "source": [
        "input_message = HumanMessage(content=\"tell me a story about a king and a princess\")\n",
        "async for event in graph.astream_events(\n",
        "  {\"messages\":[input_message]},\n",
        "  config,\n",
        "  version=\"v2\"\n",
        "  ):\n",
        "  if event['event'] == \"on_chat_model_stream\":\n",
        "    # stream the content of the chunk\n",
        "    print(event[\"data\"].get(\"chunk\").content, end=\"\")"
      ]
    },
    {
      "cell_type": "code",
      "execution_count": 9,
      "metadata": {
        "id": "2S3jcf4cEpRC",
        "outputId": "09f671e5-0875-4464-a51d-8b9a375c62fc"
      },
      "outputs": [
        {
          "name": "stdout",
          "output_type": "stream",
          "text": [
            "================================\u001b[1m Human Message \u001b[0m=================================\n",
            "\n",
            "how much is 2 times 10?\n",
            "==================================\u001b[1m Ai Message \u001b[0m==================================\n",
            "\n",
            "2 times 10 is 20.\n",
            "================================\u001b[1m Human Message \u001b[0m=================================\n",
            "\n",
            "tell me a story about a king and a princess\n",
            "==================================\u001b[1m Ai Message \u001b[0m==================================\n",
            "\n",
            "Once upon a time, in a kingdom nestled between lush green hills and sparkling rivers, there lived a wise and benevolent king named King Alaric. He ruled the land of Eldoria with kindness and fairness, and his people adored him. The kingdom thrived under his reign, and peace reigned for many years.\n",
            "\n",
            "King Alaric had a daughter named Princess Elara, a spirited young woman with a heart full of dreams. She was known throughout the kingdom for her beauty, intelligence, and compassion. Elara often wandered through the villages, listening to the stories of her people and helping those in need. She longed for adventure beyond the castle walls, dreaming of exploring the world and making a difference.\n",
            "\n",
            "One day, while walking in the royal gardens, Elara stumbled upon an ancient, weathered map hidden beneath a stone. Intrigued, she carefully unfolded it and discovered it depicted a hidden treasure located deep within the Enchanted Forest, a mystical place said to be filled with magical creatures and untold wonders. The treasure was rumored to possess the power to grant one wish to the person who found it.\n",
            "\n",
            "Excited by the prospect of adventure, Elara decided to embark on a quest to find the treasure. She approached her father, King Alaric, and shared her discovery. The king, though initially hesitant, recognized his daughter’s determination and spirit. He knew that this journey could teach her valuable lessons about courage and responsibility. After much discussion, he agreed to let her go, but only if she took a trusted knight, Sir Cedric, with her for protection.\n",
            "\n",
            "The next morning, Elara and Sir Cedric set off on their adventure, traveling through the vibrant landscapes of Eldoria. They crossed rivers, climbed mountains, and navigated through the Enchanted Forest, where they encountered talking animals, mischievous fairies, and wise old trees that shared their ancient knowledge.\n",
            "\n",
            "As they journeyed deeper into the forest, they faced various challenges that tested their bravery and friendship. They had to solve riddles posed by a clever fox, outsmart a grumpy troll guarding a bridge, and help a lost bird find its way home. With each challenge, Elara’s courage grew, and she learned the importance of teamwork and kindness.\n",
            "\n",
            "Finally, after days of adventure, they reached the location marked on the map—a hidden glade bathed in golden light. In the center stood a magnificent chest adorned with jewels and intricate carvings. With a mix of excitement and trepidation, Elara approached the chest and opened it. Inside, they found not gold or jewels, but a shimmering crystal that pulsed with a warm, inviting glow.\n",
            "\n",
            "As Elara held the crystal, she felt a surge of energy and clarity. She realized that the true treasure was not material wealth but the experiences she had gained and the friendships she had forged along the way. With a heart full of gratitude, she made her wish—not for herself, but for her kingdom. She wished for prosperity and happiness for all the people of Eldoria.\n",
            "\n",
            "In an instant, the crystal glowed brighter, and a wave of magic spread across the land. Crops flourished, rivers sparkled, and laughter filled the air as the people of Eldoria thrived. Elara and Sir Cedric returned to the castle, greeted as heroes. King Alaric embraced his daughter, proud of the woman she had become.\n",
            "\n",
            "From that day on, Princess Elara continued to explore the kingdom, using her newfound wisdom to help her people. She and Sir Cedric became inseparable friends, embarking on many more adventures together. And King Alaric, seeing the strength and compassion in his daughter, knew that the future of Eldoria was in good hands.\n",
            "\n",
            "And so, the kingdom of Eldoria flourished, filled with love, laughter, and the spirit of adventure, all thanks to a brave princess and her unwavering heart. \n",
            "\n",
            "And they all lived happily ever after.\n"
          ]
        }
      ],
      "source": [
        "for m in graph.get_state(config).values.get(\"messages\"):\n",
        "  m.pretty_print()"
      ]
    },
    {
      "cell_type": "code",
      "execution_count": null,
      "metadata": {
        "id": "GbTH7EZIEpRC"
      },
      "outputs": [],
      "source": []
    }
  ],
  "metadata": {
    "colab": {
      "provenance": []
    },
    "kernelspec": {
      "display_name": "venvagent",
      "language": "python",
      "name": "python3"
    },
    "language_info": {
      "codemirror_mode": {
        "name": "ipython",
        "version": 3
      },
      "file_extension": ".py",
      "mimetype": "text/x-python",
      "name": "python",
      "nbconvert_exporter": "python",
      "pygments_lexer": "ipython3",
      "version": "3.12.0"
    }
  },
  "nbformat": 4,
  "nbformat_minor": 0
}
